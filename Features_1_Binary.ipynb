{
 "cells": [
  {
   "cell_type": "code",
   "execution_count": 1,
   "metadata": {
    "colab": {
     "autoexec": {
      "startup": false,
      "wait_interval": 0
     },
     "base_uri": "https://localhost:8080/",
     "height": 207
    },
    "colab_type": "code",
    "executionInfo": {
     "elapsed": 2534,
     "status": "ok",
     "timestamp": 1527878938481,
     "user": {
      "displayName": "Emrah Tema",
      "photoUrl": "https://lh3.googleusercontent.com/a/default-user=s128",
      "userId": "102019531740135725055"
     },
     "user_tz": -180
    },
    "id": "-uT-z0ge6N3q",
    "outputId": "3f93411d-0b24-422c-974a-99a752afb08b"
   },
   "outputs": [
    {
     "name": "stdout",
     "output_type": "stream",
     "text": [
      "mutlu tweets count: 987\n",
      "kiz tweets count: 906\n",
      "uzul tweets count: 899\n",
      "kork tweets count: 274\n",
      "Sentences labeled:\n",
      "[('\\ufeffkendi rengarenk yün çorap al şimdi onlar ben birkaç gün mutlu eder', 'mutlu'), ('günaydın mutlu sabahla', 'mutlu'), ('öyle mutlu çaydanlık gülümse az önce', 'mutlu'), ('saye gelin kız kardeş gibi parla mutlu', 'mutlu'), ('hoca matematik soru ödev ver bir kaç soru yap çok mutlu as', 'mutlu')]\n",
      "\n",
      "Sentences labeled and converted to dictionary:\n",
      "[({'kendi': True, 'rengarenk': True, 'yün': True, 'çorap': True, 'al': True, 'şimdi': True, 'onlar': True, 'ben': True, 'birkaç': True, 'gün': True, 'mutlu': True, 'eder': True}, 'mutlu'), ({'günaydın': True, 'mutlu': True, 'sabahla': True}, 'mutlu'), ({'öyle': True, 'mutlu': True, 'çaydanlık': True, 'gülümse': True, 'az': True, 'önce': True}, 'mutlu'), ({'saye': True, 'gelin': True, 'kız': True, 'kardeş': True, 'gibi': True, 'parla': True, 'mutlu': True}, 'mutlu'), ({'hoca': True, 'matematik': True, 'soru': True, 'ödev': True, 'ver': True, 'bir': True, 'kaç': True, 'yap': True, 'çok': True, 'mutlu': True, 'as': True}, 'mutlu')]\n",
      "\n"
     ]
    }
   ],
   "source": [
    "%run ReadData.ipynb"
   ]
  },
  {
   "cell_type": "code",
   "execution_count": 2,
   "metadata": {
    "colab": {
     "autoexec": {
      "startup": false,
      "wait_interval": 0
     }
    },
    "colab_type": "code",
    "id": "sLnAClmH6N3z"
   },
   "outputs": [],
   "source": [
    "binary_feature_set= shuffle(binary_feature_set, random_state= 10)"
   ]
  },
  {
   "cell_type": "code",
   "execution_count": 3,
   "metadata": {
    "colab": {
     "autoexec": {
      "startup": false,
      "wait_interval": 0
     },
     "base_uri": "https://localhost:8080/",
     "height": 54
    },
    "colab_type": "code",
    "executionInfo": {
     "elapsed": 854,
     "status": "ok",
     "timestamp": 1527878995155,
     "user": {
      "displayName": "Emrah Tema",
      "photoUrl": "https://lh3.googleusercontent.com/a/default-user=s128",
      "userId": "102019531740135725055"
     },
     "user_tz": -180
    },
    "id": "3o2bGlYC6N34",
    "outputId": "d418c317-d1f9-4ec0-86fc-5fd85a7a151c"
   },
   "outputs": [
    {
     "name": "stdout",
     "output_type": "stream",
     "text": [
      "[{'böyledegil': True, 'ev': True, 'dış': True, 'ağaç': True, 'ortam': True, 'falan': True, 'daha': True, 'zevk': True, 'ol': True}, {'nasıl': True, 'anlatı': True, 'bilneg': True, 'ama': True, 'ben': True, 'sen': True, 'dokunneg': True, 'sev': True, 'galiba': True}, {'yüksek': True, 'sesle': True, 'diyar': True, 'pala': True, 'anla': True, 'dinle': True, 've': True, 'huzur': True}, {'mükemmel': True, 'insan': True, 'bul': True, 'yanlış': True, 'banka': True, 'ol': True, 'selam': True}, {'oda': True, 'cam': True, 'sigara': True, 'iç': True, 'kan': True, 'beyin': True, 'sıçra': True, 'korku': True, 'yürek': True, 'yedi': True, 'san': True}]\n"
     ]
    }
   ],
   "source": [
    "features_no_label= [i for (i,j) in binary_feature_set]\n",
    "features_label= [j for (i,j) in binary_feature_set]\n",
    "print(features_no_label[:5])"
   ]
  },
  {
   "cell_type": "markdown",
   "metadata": {
    "colab_type": "text",
    "id": "j1GGu-lv6N4A"
   },
   "source": [
    "### feature_extraction.DictVectorizer([dtype, …]) verileri vektörlere dönüştürür"
   ]
  },
  {
   "cell_type": "code",
   "execution_count": 4,
   "metadata": {
    "colab": {
     "autoexec": {
      "startup": false,
      "wait_interval": 0
     }
    },
    "colab_type": "code",
    "id": "nR4i86U-6N4C"
   },
   "outputs": [],
   "source": [
    "from sklearn.feature_extraction import DictVectorizer"
   ]
  },
  {
   "cell_type": "code",
   "execution_count": 5,
   "metadata": {
    "colab": {
     "autoexec": {
      "startup": false,
      "wait_interval": 0
     },
     "base_uri": "https://localhost:8080/",
     "height": 51
    },
    "colab_type": "code",
    "executionInfo": {
     "elapsed": 790,
     "status": "ok",
     "timestamp": 1527878998108,
     "user": {
      "displayName": "Emrah Tema",
      "photoUrl": "https://lh3.googleusercontent.com/a/default-user=s128",
      "userId": "102019531740135725055"
     },
     "user_tz": -180
    },
    "id": "lbA4Hsey6N4K",
    "outputId": "9ba4061e-d8f1-4f2e-a23c-ced5e21b19ac"
   },
   "outputs": [
    {
     "name": "stdout",
     "output_type": "stream",
     "text": [
      "Data matris length is 3066\n",
      "['aba', 'abartneg', 'abd', 'abla', 'abone', 'acaba', 'acayip', 'acil', 'aciz', 'acı']\n"
     ]
    }
   ],
   "source": [
    "vec = DictVectorizer(sparse=False)\n",
    "features_no_label_matris=vec.fit_transform(features_no_label)\n",
    "print(\"Data matris length is {}\".format(len(features_no_label_matris)))\n",
    "feature_names = vec.get_feature_names()[:10]\n",
    "print(feature_names)"
   ]
  },
  {
   "cell_type": "code",
   "execution_count": 6,
   "metadata": {
    "colab": {
     "autoexec": {
      "startup": false,
      "wait_interval": 0
     },
     "base_uri": "https://localhost:8080/",
     "height": 102
    },
    "colab_type": "code",
    "executionInfo": {
     "elapsed": 775,
     "status": "ok",
     "timestamp": 1527878999568,
     "user": {
      "displayName": "Emrah Tema",
      "photoUrl": "https://lh3.googleusercontent.com/a/default-user=s128",
      "userId": "102019531740135725055"
     },
     "user_tz": -180
    },
    "id": "8xp3pFZI6N4S",
    "outputId": "984067d8-8693-4778-ff36-4309354e3258"
   },
   "outputs": [
    {
     "data": {
      "text/plain": [
       "array([[0., 0., 0., ..., 0., 0., 0.],\n",
       "       [0., 0., 0., ..., 0., 0., 0.],\n",
       "       [0., 0., 0., ..., 0., 0., 0.],\n",
       "       [0., 0., 0., ..., 0., 0., 0.],\n",
       "       [0., 0., 0., ..., 0., 0., 0.]])"
      ]
     },
     "execution_count": 6,
     "metadata": {},
     "output_type": "execute_result"
    }
   ],
   "source": [
    "features_no_label_matris[:5]"
   ]
  },
  {
   "cell_type": "code",
   "execution_count": 7,
   "metadata": {
    "colab": {
     "autoexec": {
      "startup": false,
      "wait_interval": 0
     }
    },
    "colab_type": "code",
    "id": "_2-c779r6N4g"
   },
   "outputs": [],
   "source": [
    "from sklearn.naive_bayes import MultinomialNB\n",
    "from sklearn.model_selection import cross_val_score\n",
    "from sklearn import svm\n",
    "from sklearn.linear_model import LogisticRegression\n",
    "import numpy as np"
   ]
  },
  {
   "cell_type": "code",
   "execution_count": 8,
   "metadata": {
    "colab": {
     "autoexec": {
      "startup": false,
      "wait_interval": 0
     },
     "base_uri": "https://localhost:8080/",
     "height": 68
    },
    "colab_type": "code",
    "executionInfo": {
     "elapsed": 1535,
     "status": "ok",
     "timestamp": 1527879003624,
     "user": {
      "displayName": "Emrah Tema",
      "photoUrl": "https://lh3.googleusercontent.com/a/default-user=s128",
      "userId": "102019531740135725055"
     },
     "user_tz": -180
    },
    "id": "PNm7Wj3H6N4k",
    "outputId": "8f1e3e81-f02e-4eab-8656-86eac91394bd"
   },
   "outputs": [
    {
     "name": "stdout",
     "output_type": "stream",
     "text": [
      "[0.91558442 0.93831169 0.90584416 0.88961039 0.93159609 0.89576547\n",
      " 0.88888889 0.90491803 0.89508197 0.88815789]\n",
      "Average=0.9053758996494295 and standard deviation=0.017006073050315013\n"
     ]
    }
   ],
   "source": [
    "clf= MultinomialNB()\n",
    "scores = cross_val_score(clf, features_no_label_matris, features_label, cv=10)\n",
    "print(scores)\n",
    "print(\"Average={} and standard deviation={}\".format(np.average(scores), np.std(scores)))"
   ]
  },
  {
   "cell_type": "code",
   "execution_count": 9,
   "metadata": {
    "colab": {
     "autoexec": {
      "startup": false,
      "wait_interval": 0
     },
     "base_uri": "https://localhost:8080/",
     "height": 68
    },
    "colab_type": "code",
    "executionInfo": {
     "elapsed": 443471,
     "status": "ok",
     "timestamp": 1527188544257,
     "user": {
      "displayName": "Emrah Tema",
      "photoUrl": "https://lh3.googleusercontent.com/a/default-user=s128",
      "userId": "102019531740135725055"
     },
     "user_tz": -180
    },
    "id": "yt3c5fWV6N4s",
    "outputId": "e5ccd878-90ce-45eb-cac4-441649939427"
   },
   "outputs": [
    {
     "name": "stdout",
     "output_type": "stream",
     "text": [
      "[0.92857143 0.96103896 0.92532468 0.91883117 0.93485342 0.90553746\n",
      " 0.90849673 0.91147541 0.9147541  0.92105263]\n",
      "Average=0.9229935985046872 and standard deviation=0.015366125825100722\n"
     ]
    }
   ],
   "source": [
    "clf = svm.SVC(kernel='linear', C=1)\n",
    "scores = cross_val_score(clf, features_no_label_matris, features_label, cv=10)\n",
    "print(scores) \n",
    "print(\"Average={} and standard deviation={}\".format(np.average(scores), np.std(scores)))"
   ]
  },
  {
   "cell_type": "code",
   "execution_count": 10,
   "metadata": {
    "colab": {
     "autoexec": {
      "startup": false,
      "wait_interval": 0
     },
     "base_uri": "https://localhost:8080/",
     "height": 68
    },
    "colab_type": "code",
    "executionInfo": {
     "elapsed": 161063,
     "status": "ok",
     "timestamp": 1527188705412,
     "user": {
      "displayName": "Emrah Tema",
      "photoUrl": "https://lh3.googleusercontent.com/a/default-user=s128",
      "userId": "102019531740135725055"
     },
     "user_tz": -180
    },
    "id": "TORbnOQ36N41",
    "outputId": "486762c0-ff59-4159-eb3a-0178ed4d1a48"
   },
   "outputs": [
    {
     "name": "stdout",
     "output_type": "stream",
     "text": [
      "[0.93831169 0.96103896 0.91883117 0.92532468 0.94788274 0.92833876\n",
      " 0.90522876 0.92131148 0.92459016 0.9375    ]\n",
      "Average=0.9308358389392026 and standard deviation=0.0150641615072774\n"
     ]
    }
   ],
   "source": [
    "clf = LogisticRegression(solver='sag', max_iter=100, random_state=42,\n",
    "                             multi_class='multinomial') # Maximum Entropy\n",
    "\n",
    "scores = cross_val_score(clf, features_no_label_matris, features_label, cv=10)\n",
    "print(scores) \n",
    "print(\"Average={} and standard deviation={}\".format(np.average(scores), np.std(scores)))"
   ]
  }
 ],
 "metadata": {
  "colab": {
   "collapsed_sections": [],
   "default_view": {},
   "name": "Features_1_Binary.ipynb",
   "provenance": [],
   "version": "0.3.2",
   "views": {}
  },
  "kernelspec": {
   "display_name": "Python 3",
   "language": "python",
   "name": "python3"
  },
  "language_info": {
   "codemirror_mode": {
    "name": "ipython",
    "version": 3
   },
   "file_extension": ".py",
   "mimetype": "text/x-python",
   "name": "python",
   "nbconvert_exporter": "python",
   "pygments_lexer": "ipython3",
   "version": "3.6.5"
  }
 },
 "nbformat": 4,
 "nbformat_minor": 1
}
