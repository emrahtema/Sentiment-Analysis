{
 "cells": [
  {
   "cell_type": "code",
   "execution_count": 2,
   "metadata": {
    "colab": {
     "autoexec": {
      "startup": false,
      "wait_interval": 0
     },
     "base_uri": "https://localhost:8080/",
     "height": 207
    },
    "colab_type": "code",
    "executionInfo": {
     "elapsed": 1621,
     "status": "ok",
     "timestamp": 1527187387156,
     "user": {
      "displayName": "Emrah Tema",
      "photoUrl": "https://lh3.googleusercontent.com/a/default-user=s128",
      "userId": "102019531740135725055"
     },
     "user_tz": -180
    },
    "id": "NSgDFIUK6NKN",
    "outputId": "008461ce-c9bd-46a0-9613-d1f7b5ccf449"
   },
   "outputs": [
    {
     "name": "stdout",
     "output_type": "stream",
     "text": [
      "mutlu tweets count: 987\n",
      "kiz tweets count: 906\n",
      "uzul tweets count: 899\n",
      "kork tweets count: 274\n",
      "Sentences labeled:\n",
      "[('\\ufeffkendi rengarenk yün çorap al şimdi onlar ben birkaç gün mutlu eder', 'mutlu'), ('günaydın mutlu sabahla', 'mutlu'), ('öyle mutlu çaydanlık gülümse az önce', 'mutlu'), ('saye gelin kız kardeş gibi parla mutlu', 'mutlu'), ('hoca matematik soru ödev ver bir kaç soru yap çok mutlu as', 'mutlu')]\n",
      "\n",
      "Sentences labeled and converted to dictionary:\n",
      "[({'kendi': True, 'rengarenk': True, 'yün': True, 'çorap': True, 'al': True, 'şimdi': True, 'onlar': True, 'ben': True, 'birkaç': True, 'gün': True, 'mutlu': True, 'eder': True}, 'mutlu'), ({'günaydın': True, 'mutlu': True, 'sabahla': True}, 'mutlu'), ({'öyle': True, 'mutlu': True, 'çaydanlık': True, 'gülümse': True, 'az': True, 'önce': True}, 'mutlu'), ({'saye': True, 'gelin': True, 'kız': True, 'kardeş': True, 'gibi': True, 'parla': True, 'mutlu': True}, 'mutlu'), ({'hoca': True, 'matematik': True, 'soru': True, 'ödev': True, 'ver': True, 'bir': True, 'kaç': True, 'yap': True, 'çok': True, 'mutlu': True, 'as': True}, 'mutlu')]\n",
      "\n"
     ]
    }
   ],
   "source": [
    "%run ReadData.ipynb"
   ]
  },
  {
   "cell_type": "code",
   "execution_count": 3,
   "metadata": {
    "colab": {
     "autoexec": {
      "startup": false,
      "wait_interval": 0
     }
    },
    "colab_type": "code",
    "id": "mYT6QBZq6NKY"
   },
   "outputs": [],
   "source": [
    "labeled_data= shuffle(labeled_data, random_state= 10)"
   ]
  },
  {
   "cell_type": "code",
   "execution_count": 4,
   "metadata": {
    "colab": {
     "autoexec": {
      "startup": false,
      "wait_interval": 0
     }
    },
    "colab_type": "code",
    "id": "1kDEemD16NKe"
   },
   "outputs": [],
   "source": [
    "features_no_label= [i for (i,j) in labeled_data]\n",
    "features_label= [j for (i,j) in labeled_data]"
   ]
  },
  {
   "cell_type": "markdown",
   "metadata": {
    "colab_type": "text",
    "id": "pou_KdPL6NKk"
   },
   "source": [
    "### sklearn.feature_extraction.text.TfidfVectorizer\n",
    "TF-IDF sayısal değerlerini hesaplayarak veriyi TF için şekillendirir"
   ]
  },
  {
   "cell_type": "code",
   "execution_count": 5,
   "metadata": {
    "colab": {
     "autoexec": {
      "startup": false,
      "wait_interval": 0
     },
     "base_uri": "https://localhost:8080/",
     "height": 34
    },
    "colab_type": "code",
    "executionInfo": {
     "elapsed": 676,
     "status": "ok",
     "timestamp": 1527187390451,
     "user": {
      "displayName": "Emrah Tema",
      "photoUrl": "https://lh3.googleusercontent.com/a/default-user=s128",
      "userId": "102019531740135725055"
     },
     "user_tz": -180
    },
    "id": "XaKVFUSW6NKm",
    "outputId": "16813acc-a447-4ae0-cfe1-a6a9ad257979"
   },
   "outputs": [
    {
     "name": "stdout",
     "output_type": "stream",
     "text": [
      "Data matris length is 3066\n"
     ]
    }
   ],
   "source": [
    "from sklearn.feature_extraction.text import TfidfVectorizer\n",
    "vec = TfidfVectorizer(use_idf=False)\n",
    "features_no_label_matris=vec.fit_transform(features_no_label).toarray()\n",
    "print(\"Data matris length is {}\".format(len(features_no_label_matris)))"
   ]
  },
  {
   "cell_type": "code",
   "execution_count": 6,
   "metadata": {
    "colab": {
     "autoexec": {
      "startup": false,
      "wait_interval": 0
     },
     "base_uri": "https://localhost:8080/",
     "height": 34
    },
    "colab_type": "code",
    "executionInfo": {
     "elapsed": 604,
     "status": "ok",
     "timestamp": 1527187391167,
     "user": {
      "displayName": "Emrah Tema",
      "photoUrl": "https://lh3.googleusercontent.com/a/default-user=s128",
      "userId": "102019531740135725055"
     },
     "user_tz": -180
    },
    "id": "NzCqg1Fl6NKu",
    "outputId": "37df4c85-73df-4ced-96ee-cd709030d7ce"
   },
   "outputs": [
    {
     "name": "stdout",
     "output_type": "stream",
     "text": [
      "['aba', 'abartneg', 'abd', 'abla', 'abone']\n"
     ]
    }
   ],
   "source": [
    "feature_names = vec.get_feature_names()[:5]\n",
    "print(feature_names)"
   ]
  },
  {
   "cell_type": "code",
   "execution_count": 7,
   "metadata": {
    "colab": {
     "autoexec": {
      "startup": false,
      "wait_interval": 0
     },
     "base_uri": "https://localhost:8080/",
     "height": 136
    },
    "colab_type": "code",
    "executionInfo": {
     "elapsed": 627,
     "status": "ok",
     "timestamp": 1527187391868,
     "user": {
      "displayName": "Emrah Tema",
      "photoUrl": "https://lh3.googleusercontent.com/a/default-user=s128",
      "userId": "102019531740135725055"
     },
     "user_tz": -180
    },
    "id": "eIou3B9s6NK4",
    "outputId": "fb505fc0-a657-40ab-824a-c89782674e00"
   },
   "outputs": [
    {
     "data": {
      "text/plain": [
       "array([[0., 0., 0., ..., 0., 0., 0.],\n",
       "       [0., 0., 0., ..., 0., 0., 0.],\n",
       "       [0., 0., 0., ..., 0., 0., 0.],\n",
       "       ...,\n",
       "       [0., 0., 0., ..., 0., 0., 0.],\n",
       "       [0., 0., 0., ..., 0., 0., 0.],\n",
       "       [0., 0., 0., ..., 0., 0., 0.]])"
      ]
     },
     "execution_count": 7,
     "metadata": {},
     "output_type": "execute_result"
    }
   ],
   "source": [
    "features_no_label_matris"
   ]
  },
  {
   "cell_type": "code",
   "execution_count": 8,
   "metadata": {
    "colab": {
     "autoexec": {
      "startup": false,
      "wait_interval": 0
     }
    },
    "colab_type": "code",
    "id": "q4lDRg1A6NLB"
   },
   "outputs": [],
   "source": [
    "from sklearn.model_selection import cross_val_score\n",
    "from sklearn import svm\n",
    "from sklearn.naive_bayes import MultinomialNB\n",
    "import numpy as np"
   ]
  },
  {
   "cell_type": "code",
   "execution_count": 9,
   "metadata": {
    "colab": {
     "autoexec": {
      "startup": false,
      "wait_interval": 0
     },
     "base_uri": "https://localhost:8080/",
     "height": 68
    },
    "colab_type": "code",
    "executionInfo": {
     "elapsed": 560597,
     "status": "ok",
     "timestamp": 1527188670297,
     "user": {
      "displayName": "Emrah Tema",
      "photoUrl": "https://lh3.googleusercontent.com/a/default-user=s128",
      "userId": "102019531740135725055"
     },
     "user_tz": -180
    },
    "id": "ZRz7OUCs6NLF",
    "outputId": "4f4704b2-783e-43a3-a2d3-8bb7a862b746"
   },
   "outputs": [
    {
     "name": "stdout",
     "output_type": "stream",
     "text": [
      "[0.92207792 0.95454545 0.93181818 0.90909091 0.94788274 0.91856678\n",
      " 0.90196078 0.91803279 0.93114754 0.92434211]\n",
      "Average=0.9259465196378855 and standard deviation=0.015344962706713311\n"
     ]
    }
   ],
   "source": [
    "clf = svm.SVC(kernel='linear', C=1)\n",
    "scores = cross_val_score(clf, features_no_label_matris, features_label, cv=10)\n",
    "print(scores) \n",
    "print(\"Average={} and standard deviation={}\".format(np.average(scores), np.std(scores)))"
   ]
  },
  {
   "cell_type": "code",
   "execution_count": 10,
   "metadata": {
    "colab": {
     "autoexec": {
      "startup": false,
      "wait_interval": 0
     },
     "base_uri": "https://localhost:8080/",
     "height": 68
    },
    "colab_type": "code",
    "executionInfo": {
     "elapsed": 2113,
     "status": "ok",
     "timestamp": 1527188672482,
     "user": {
      "displayName": "Emrah Tema",
      "photoUrl": "https://lh3.googleusercontent.com/a/default-user=s128",
      "userId": "102019531740135725055"
     },
     "user_tz": -180
    },
    "id": "q7On4ADN6NLR",
    "outputId": "f53e755a-e6e6-4e09-d5ee-7ae26e36746c"
   },
   "outputs": [
    {
     "name": "stdout",
     "output_type": "stream",
     "text": [
      "[0.89285714 0.88636364 0.85064935 0.8538961  0.88599349 0.86970684\n",
      " 0.86601307 0.86229508 0.84262295 0.86513158]\n",
      "Average=0.8675529243128812 and standard deviation=0.015711340170010225\n"
     ]
    }
   ],
   "source": [
    "clf= MultinomialNB()\n",
    "scores = cross_val_score(clf, features_no_label_matris, features_label, cv=10)\n",
    "print(scores) \n",
    "print(\"Average={} and standard deviation={}\".format(np.average(scores), np.std(scores)))"
   ]
  }
 ],
 "metadata": {
  "colab": {
   "collapsed_sections": [],
   "default_view": {},
   "name": "Features_2_Tf.ipynb",
   "provenance": [],
   "version": "0.3.2",
   "views": {}
  },
  "kernelspec": {
   "display_name": "Python 3",
   "language": "python",
   "name": "python3"
  },
  "language_info": {
   "codemirror_mode": {
    "name": "ipython",
    "version": 3
   },
   "file_extension": ".py",
   "mimetype": "text/x-python",
   "name": "python",
   "nbconvert_exporter": "python",
   "pygments_lexer": "ipython3",
   "version": "3.6.5"
  }
 },
 "nbformat": 4,
 "nbformat_minor": 1
}
