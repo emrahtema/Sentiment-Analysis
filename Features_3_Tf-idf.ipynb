{
 "cells": [
  {
   "cell_type": "code",
   "execution_count": 1,
   "metadata": {
    "colab": {
     "autoexec": {
      "startup": false,
      "wait_interval": 0
     },
     "base_uri": "https://localhost:8080/",
     "height": 207
    },
    "colab_type": "code",
    "executionInfo": {
     "elapsed": 7507,
     "status": "ok",
     "timestamp": 1527187365630,
     "user": {
      "displayName": "Emrah Tema",
      "photoUrl": "https://lh3.googleusercontent.com/a/default-user=s128",
      "userId": "102019531740135725055"
     },
     "user_tz": -180
    },
    "id": "RtqgCP7z54St",
    "outputId": "ab251049-b95c-4a49-d996-f019a80094ee"
   },
   "outputs": [
    {
     "name": "stdout",
     "output_type": "stream",
     "text": [
      "mutlu tweets count: 987\n",
      "kiz tweets count: 906\n",
      "uzul tweets count: 899\n",
      "kork tweets count: 274\n",
      "Sentences labeled:\n",
      "[('\\ufeffkendi rengarenk yün çorap al şimdi onlar ben birkaç gün mutlu eder', 'mutlu'), ('günaydın mutlu sabahla', 'mutlu'), ('öyle mutlu çaydanlık gülümse az önce', 'mutlu'), ('saye gelin kız kardeş gibi parla mutlu', 'mutlu'), ('hoca matematik soru ödev ver bir kaç soru yap çok mutlu as', 'mutlu')]\n",
      "\n",
      "Sentences labeled and converted to dictionary:\n",
      "[({'kendi': True, 'rengarenk': True, 'yün': True, 'çorap': True, 'al': True, 'şimdi': True, 'onlar': True, 'ben': True, 'birkaç': True, 'gün': True, 'mutlu': True, 'eder': True}, 'mutlu'), ({'günaydın': True, 'mutlu': True, 'sabahla': True}, 'mutlu'), ({'öyle': True, 'mutlu': True, 'çaydanlık': True, 'gülümse': True, 'az': True, 'önce': True}, 'mutlu'), ({'saye': True, 'gelin': True, 'kız': True, 'kardeş': True, 'gibi': True, 'parla': True, 'mutlu': True}, 'mutlu'), ({'hoca': True, 'matematik': True, 'soru': True, 'ödev': True, 'ver': True, 'bir': True, 'kaç': True, 'yap': True, 'çok': True, 'mutlu': True, 'as': True}, 'mutlu')]\n",
      "\n"
     ]
    }
   ],
   "source": [
    "%run ReadData.ipynb"
   ]
  },
  {
   "cell_type": "code",
   "execution_count": 2,
   "metadata": {
    "colab": {
     "autoexec": {
      "startup": false,
      "wait_interval": 0
     }
    },
    "colab_type": "code",
    "id": "8PaeZlSk54S5"
   },
   "outputs": [],
   "source": [
    "labeled_data= shuffle(labeled_data, random_state= 10)"
   ]
  },
  {
   "cell_type": "code",
   "execution_count": 3,
   "metadata": {
    "colab": {
     "autoexec": {
      "startup": false,
      "wait_interval": 0
     }
    },
    "colab_type": "code",
    "id": "aofhdlED54TA"
   },
   "outputs": [],
   "source": [
    "features_no_label= [i for (i,j) in labeled_data]\n",
    "features_label= [j for (i,j) in labeled_data]"
   ]
  },
  {
   "cell_type": "markdown",
   "metadata": {
    "colab_type": "text",
    "id": "huw_BOKX54TF"
   },
   "source": [
    "### sklearn.feature_extraction.text.TfidfVectorizer\n",
    "Verinin TF-IDF karşılıklarını hesaplayarak vektör matrisine dönüştürür"
   ]
  },
  {
   "cell_type": "code",
   "execution_count": 4,
   "metadata": {
    "colab": {
     "autoexec": {
      "startup": false,
      "wait_interval": 0
     },
     "base_uri": "https://localhost:8080/",
     "height": 34
    },
    "colab_type": "code",
    "executionInfo": {
     "elapsed": 633,
     "status": "ok",
     "timestamp": 1527187372750,
     "user": {
      "displayName": "Emrah Tema",
      "photoUrl": "https://lh3.googleusercontent.com/a/default-user=s128",
      "userId": "102019531740135725055"
     },
     "user_tz": -180
    },
    "id": "xlBxqvYK54TH",
    "outputId": "24692e83-1b19-4114-ba1f-0ae8d8f34a7c"
   },
   "outputs": [
    {
     "name": "stdout",
     "output_type": "stream",
     "text": [
      "Data matris length is 3066\n"
     ]
    }
   ],
   "source": [
    "from sklearn.feature_extraction.text import TfidfVectorizer\n",
    "vec = TfidfVectorizer()\n",
    "features_no_label_matris=vec.fit_transform(features_no_label).toarray()\n",
    "print(\"Data matris length is {}\".format(len(features_no_label_matris)))"
   ]
  },
  {
   "cell_type": "code",
   "execution_count": 5,
   "metadata": {
    "colab": {
     "autoexec": {
      "startup": false,
      "wait_interval": 0
     },
     "base_uri": "https://localhost:8080/",
     "height": 34
    },
    "colab_type": "code",
    "executionInfo": {
     "elapsed": 647,
     "status": "ok",
     "timestamp": 1527187374667,
     "user": {
      "displayName": "Emrah Tema",
      "photoUrl": "https://lh3.googleusercontent.com/a/default-user=s128",
      "userId": "102019531740135725055"
     },
     "user_tz": -180
    },
    "id": "033ggD-M54TX",
    "outputId": "5e4b114d-8989-46ba-8740-d2c273aefd6c"
   },
   "outputs": [
    {
     "name": "stdout",
     "output_type": "stream",
     "text": [
      "['aba', 'abartneg', 'abd', 'abla', 'abone']\n"
     ]
    }
   ],
   "source": [
    "feature_names = vec.get_feature_names()[:5]\n",
    "print(feature_names)"
   ]
  },
  {
   "cell_type": "code",
   "execution_count": 6,
   "metadata": {
    "colab": {
     "autoexec": {
      "startup": false,
      "wait_interval": 0
     },
     "base_uri": "https://localhost:8080/",
     "height": 136
    },
    "colab_type": "code",
    "executionInfo": {
     "elapsed": 598,
     "status": "ok",
     "timestamp": 1527187375339,
     "user": {
      "displayName": "Emrah Tema",
      "photoUrl": "https://lh3.googleusercontent.com/a/default-user=s128",
      "userId": "102019531740135725055"
     },
     "user_tz": -180
    },
    "id": "UEFufCv554Tq",
    "outputId": "1e08aa8a-f08a-4ebd-89d8-eab65f355d38"
   },
   "outputs": [
    {
     "data": {
      "text/plain": [
       "array([[0., 0., 0., ..., 0., 0., 0.],\n",
       "       [0., 0., 0., ..., 0., 0., 0.],\n",
       "       [0., 0., 0., ..., 0., 0., 0.],\n",
       "       ...,\n",
       "       [0., 0., 0., ..., 0., 0., 0.],\n",
       "       [0., 0., 0., ..., 0., 0., 0.],\n",
       "       [0., 0., 0., ..., 0., 0., 0.]])"
      ]
     },
     "execution_count": 6,
     "metadata": {},
     "output_type": "execute_result"
    }
   ],
   "source": [
    "features_no_label_matris"
   ]
  },
  {
   "cell_type": "code",
   "execution_count": 7,
   "metadata": {
    "colab": {
     "autoexec": {
      "startup": false,
      "wait_interval": 0
     }
    },
    "colab_type": "code",
    "id": "LCLDOAsG54Tx"
   },
   "outputs": [],
   "source": [
    "from sklearn.model_selection import cross_val_score\n",
    "from sklearn import svm\n",
    "from sklearn.naive_bayes import MultinomialNB      \n",
    "import numpy as np"
   ]
  },
  {
   "cell_type": "code",
   "execution_count": 8,
   "metadata": {
    "colab": {
     "autoexec": {
      "startup": false,
      "wait_interval": 0
     },
     "base_uri": "https://localhost:8080/",
     "height": 68
    },
    "colab_type": "code",
    "executionInfo": {
     "elapsed": 603614,
     "status": "ok",
     "timestamp": 1527188717911,
     "user": {
      "displayName": "Emrah Tema",
      "photoUrl": "https://lh3.googleusercontent.com/a/default-user=s128",
      "userId": "102019531740135725055"
     },
     "user_tz": -180
    },
    "id": "QpqPlEiY54T2",
    "outputId": "2a45a8b6-c22d-400c-8d45-52101a1a464c"
   },
   "outputs": [
    {
     "name": "stdout",
     "output_type": "stream",
     "text": [
      "[0.92532468 0.95454545 0.92532468 0.91883117 0.95439739 0.93159609\n",
      " 0.91176471 0.91803279 0.9147541  0.92434211]\n",
      "Average=0.9278913155759405 and standard deviation=0.014368172218136886\n"
     ]
    }
   ],
   "source": [
    "clf = svm.SVC(kernel='linear', C=1)\n",
    "scores = cross_val_score(clf, features_no_label_matris, features_label, cv=10)\n",
    "print(scores) \n",
    "print(\"Average={} and standard deviation={}\".format(np.average(scores), np.std(scores)))"
   ]
  },
  {
   "cell_type": "code",
   "execution_count": 9,
   "metadata": {
    "colab": {
     "autoexec": {
      "startup": false,
      "wait_interval": 0
     },
     "base_uri": "https://localhost:8080/",
     "height": 68
    },
    "colab_type": "code",
    "executionInfo": {
     "elapsed": 1240,
     "status": "ok",
     "timestamp": 1527188719296,
     "user": {
      "displayName": "Emrah Tema",
      "photoUrl": "https://lh3.googleusercontent.com/a/default-user=s128",
      "userId": "102019531740135725055"
     },
     "user_tz": -180
    },
    "id": "iy7NpMNh54UA",
    "outputId": "e8b4bf16-12d5-43e9-d47f-a5cbb392e189"
   },
   "outputs": [
    {
     "name": "stdout",
     "output_type": "stream",
     "text": [
      "[0.88311688 0.89285714 0.8538961  0.87012987 0.8762215  0.86319218\n",
      " 0.8627451  0.86229508 0.84262295 0.87171053]\n",
      "Average=0.867878733792365 and standard deviation=0.01363208620792178\n"
     ]
    }
   ],
   "source": [
    "clf= MultinomialNB()\n",
    "scores = cross_val_score(clf, features_no_label_matris, features_label, cv=10)\n",
    "print(scores) \n",
    "print(\"Average={} and standard deviation={}\".format(np.average(scores), np.std(scores)))"
   ]
  }
 ],
 "metadata": {
  "colab": {
   "collapsed_sections": [],
   "default_view": {},
   "name": "Features_3_Tf-idf.ipynb",
   "provenance": [],
   "version": "0.3.2",
   "views": {}
  },
  "kernelspec": {
   "display_name": "Python 3",
   "language": "python",
   "name": "python3"
  },
  "language_info": {
   "codemirror_mode": {
    "name": "ipython",
    "version": 3
   },
   "file_extension": ".py",
   "mimetype": "text/x-python",
   "name": "python",
   "nbconvert_exporter": "python",
   "pygments_lexer": "ipython3",
   "version": "3.6.5"
  }
 },
 "nbformat": 4,
 "nbformat_minor": 1
}
